{
  "nbformat": 4,
  "nbformat_minor": 0,
  "metadata": {
    "colab": {
      "provenance": [],
      "authorship_tag": "ABX9TyPmJzBSxZ0kj0hCJwZs+Sgj",
      "include_colab_link": true
    },
    "kernelspec": {
      "name": "python3",
      "display_name": "Python 3"
    },
    "language_info": {
      "name": "python"
    }
  },
  "cells": [
    {
      "cell_type": "markdown",
      "metadata": {
        "id": "view-in-github",
        "colab_type": "text"
      },
      "source": [
        "<a href=\"https://colab.research.google.com/github/NhlakZ/Hello-world/blob/main/Exploratory_data_analysis.ipynb\" target=\"_parent\"><img src=\"https://colab.research.google.com/assets/colab-badge.svg\" alt=\"Open In Colab\"/></a>"
      ]
    },
    {
      "cell_type": "markdown",
      "source": [
        "# New section"
      ],
      "metadata": {
        "id": "vM75aOQiPbAV"
      }
    },
    {
      "cell_type": "code",
      "source": [
        "from google.colab import drive\n",
        "drive.mount('/content/drive')"
      ],
      "metadata": {
        "id": "cXn5pSVotlQF",
        "colab": {
          "base_uri": "https://localhost:8080/"
        },
        "outputId": "7cb2473f-2e9f-4752-857a-7ca0547bb493"
      },
      "execution_count": 1,
      "outputs": [
        {
          "output_type": "stream",
          "name": "stdout",
          "text": [
            "Mounted at /content/drive\n"
          ]
        }
      ]
    },
    {
      "cell_type": "code",
      "source": [
        "import pandas as pd"
      ],
      "metadata": {
        "id": "63DbcBB-vKlS"
      },
      "execution_count": 2,
      "outputs": []
    },
    {
      "cell_type": "code",
      "source": [
        "path =\"/content/drive/MyDrive/data.csv\""
      ],
      "metadata": {
        "id": "7FuiB7P6vQp1"
      },
      "execution_count": 3,
      "outputs": []
    },
    {
      "cell_type": "code",
      "source": [
        "df = pd.read_csv(path)"
      ],
      "metadata": {
        "id": "1XfVx9GtyW_0"
      },
      "execution_count": 4,
      "outputs": []
    },
    {
      "cell_type": "code",
      "source": [
        "print(df.head())"
      ],
      "metadata": {
        "colab": {
          "base_uri": "https://localhost:8080/"
        },
        "id": "yIPYkc25IW8A",
        "outputId": "fbe08265-5de1-4e14-c030-960dc79a1d41"
      },
      "execution_count": 5,
      "outputs": [
        {
          "output_type": "stream",
          "name": "stdout",
          "text": [
            "       Country                 Region  Population  Under15  Over60  \\\n",
            "0  Afghanistan  Eastern Mediterranean       29825    47.42    3.82   \n",
            "1      Albania                 Europe        3162    21.33   14.93   \n",
            "2      Algeria                 Africa       38482    27.42    7.17   \n",
            "3      Andorra                 Europe          78    15.20   22.86   \n",
            "4       Angola                 Africa       20821    47.58    3.84   \n",
            "\n",
            "   FertilityRate  LifeExpectancy  ChildMortality  CellularSubscribers  \\\n",
            "0           5.40              60            98.5                54.26   \n",
            "1           1.75              74            16.7                96.39   \n",
            "2           2.83              73            20.0                98.99   \n",
            "3            NaN              82             3.2                75.49   \n",
            "4           6.10              51           163.5                48.38   \n",
            "\n",
            "   LiteracyRate     GNI  PrimarySchoolEnrollmentMale  \\\n",
            "0           NaN  1140.0                          NaN   \n",
            "1           NaN  8820.0                          NaN   \n",
            "2           NaN  8310.0                         98.2   \n",
            "3           NaN     NaN                         78.4   \n",
            "4          70.1  5230.0                         93.1   \n",
            "\n",
            "   PrimarySchoolEnrollmentFemale  \n",
            "0                            NaN  \n",
            "1                            NaN  \n",
            "2                           96.4  \n",
            "3                           79.4  \n",
            "4                           78.2  \n"
          ]
        }
      ]
    },
    {
      "cell_type": "markdown",
      "source": [
        "Just checking how the dataframe is set up."
      ],
      "metadata": {
        "id": "Fufb-xw5HZn2"
      }
    },
    {
      "cell_type": "code",
      "source": [
        "df.shape"
      ],
      "metadata": {
        "colab": {
          "base_uri": "https://localhost:8080/"
        },
        "id": "hTJDWjCrJLYo",
        "outputId": "36a7b66b-9938-409c-9123-16ddebf00d17"
      },
      "execution_count": null,
      "outputs": [
        {
          "output_type": "execute_result",
          "data": {
            "text/plain": [
              "(194, 13)"
            ]
          },
          "metadata": {},
          "execution_count": 37
        }
      ]
    },
    {
      "cell_type": "markdown",
      "source": [
        "#Question1\n",
        "df.shape helps me to know the total number of rows(194) and columns(13)."
      ],
      "metadata": {
        "id": "9PXiS9wuG8dM"
      }
    },
    {
      "cell_type": "markdown",
      "source": [
        "Just checking the dimension of the dataframe"
      ],
      "metadata": {
        "id": "NmveYVyWH03t"
      }
    },
    {
      "cell_type": "code",
      "source": [
        "print(df.isnull().sum())"
      ],
      "metadata": {
        "colab": {
          "base_uri": "https://localhost:8080/"
        },
        "id": "ejgc0QrvJUGO",
        "outputId": "bb8ba66e-29df-4715-b5eb-772893cbbf2b"
      },
      "execution_count": 6,
      "outputs": [
        {
          "output_type": "stream",
          "name": "stdout",
          "text": [
            "Country                           0\n",
            "Region                            0\n",
            "Population                        0\n",
            "Under15                           0\n",
            "Over60                            0\n",
            "FertilityRate                    11\n",
            "LifeExpectancy                    0\n",
            "ChildMortality                    0\n",
            "CellularSubscribers              10\n",
            "LiteracyRate                     91\n",
            "GNI                              32\n",
            "PrimarySchoolEnrollmentMale      93\n",
            "PrimarySchoolEnrollmentFemale    93\n",
            "dtype: int64\n"
          ]
        }
      ]
    },
    {
      "cell_type": "markdown",
      "source": [
        "#Question1\n",
        "The above argument in the print function helps me to check for missing data."
      ],
      "metadata": {
        "id": "9_umES14Iahb"
      }
    },
    {
      "cell_type": "markdown",
      "source": [
        "My finding were that Country, Region,Population, Under15, Over 60, Life Expectancy, Child Mortality do not have missing values.\n",
        "Fertility rate has 11 missing values, CellularSubscribers has 10 missing values, Literacy rate has 91 missing values, GNI has 32 missing values and PrimarySchoolEnrollmentMale and female have 93 missing values.  "
      ],
      "metadata": {
        "id": "It16pjpt-8ja"
      }
    },
    {
      "cell_type": "code",
      "source": [
        "print(df.info())"
      ],
      "metadata": {
        "colab": {
          "base_uri": "https://localhost:8080/"
        },
        "id": "_hSp-FDqFTfl",
        "outputId": "d7543bc6-2fd1-4b95-b71b-826166b04c3c"
      },
      "execution_count": 7,
      "outputs": [
        {
          "output_type": "stream",
          "name": "stdout",
          "text": [
            "<class 'pandas.core.frame.DataFrame'>\n",
            "RangeIndex: 194 entries, 0 to 193\n",
            "Data columns (total 13 columns):\n",
            " #   Column                         Non-Null Count  Dtype  \n",
            "---  ------                         --------------  -----  \n",
            " 0   Country                        194 non-null    object \n",
            " 1   Region                         194 non-null    object \n",
            " 2   Population                     194 non-null    int64  \n",
            " 3   Under15                        194 non-null    float64\n",
            " 4   Over60                         194 non-null    float64\n",
            " 5   FertilityRate                  183 non-null    float64\n",
            " 6   LifeExpectancy                 194 non-null    int64  \n",
            " 7   ChildMortality                 194 non-null    float64\n",
            " 8   CellularSubscribers            184 non-null    float64\n",
            " 9   LiteracyRate                   103 non-null    float64\n",
            " 10  GNI                            162 non-null    float64\n",
            " 11  PrimarySchoolEnrollmentMale    101 non-null    float64\n",
            " 12  PrimarySchoolEnrollmentFemale  101 non-null    float64\n",
            "dtypes: float64(9), int64(2), object(2)\n",
            "memory usage: 19.8+ KB\n",
            "None\n"
          ]
        }
      ]
    },
    {
      "cell_type": "code",
      "source": [
        "import numpy as np\n"
      ],
      "metadata": {
        "id": "GlJNT50k2RjY"
      },
      "execution_count": 8,
      "outputs": []
    },
    {
      "cell_type": "markdown",
      "source": [
        "Imported numpy to be able to calculate the average/ mean of the columns of the missing data using the method of imputing by the mean."
      ],
      "metadata": {
        "id": "XYlzsC_WJMf5"
      }
    },
    {
      "cell_type": "markdown",
      "source": [
        "* By the definition of the mean which gives the central tendency that reflects the average of the existing data this method helps me to maintain the structure of my dataframe.\n",
        "* What I have noticed after plotting the required in this analysis is that I saw less outliers for a dataframe that was improved so I can conclude that this method helped to minimize the outliers."
      ],
      "metadata": {
        "id": "7zG0UY02NZNx"
      }
    },
    {
      "cell_type": "code",
      "source": [
        "df[\"PrimarySchoolEnrollmentFemale\"] = df[\"PrimarySchoolEnrollmentFemale\"].replace(np.NaN, df[\"PrimarySchoolEnrollmentFemale\"].mean())\n",
        "print(df[\"PrimarySchoolEnrollmentFemale\"][:194])"
      ],
      "metadata": {
        "colab": {
          "base_uri": "https://localhost:8080/"
        },
        "id": "qs1wbX_e3Tzf",
        "outputId": "0e1bf51d-7113-4b08-8af8-9840fb3e461c"
      },
      "execution_count": 9,
      "outputs": [
        {
          "output_type": "stream",
          "name": "stdout",
          "text": [
            "0      89.632673\n",
            "1      89.632673\n",
            "2      96.400000\n",
            "3      79.400000\n",
            "4      78.200000\n",
            "         ...    \n",
            "189    95.100000\n",
            "190    89.632673\n",
            "191    70.500000\n",
            "192    93.900000\n",
            "193    89.632673\n",
            "Name: PrimarySchoolEnrollmentFemale, Length: 194, dtype: float64\n"
          ]
        }
      ]
    },
    {
      "cell_type": "code",
      "source": [
        "df[\"FertilityRate\"] = df[\"FertilityRate\"].replace(np.NaN, df[\"FertilityRate\"].mean())\n",
        "print(df[\"FertilityRate\"][:194])"
      ],
      "metadata": {
        "colab": {
          "base_uri": "https://localhost:8080/"
        },
        "id": "mUoiOg91BwtE",
        "outputId": "2bce1af5-db94-481d-b633-f9bc82e4605a"
      },
      "execution_count": 10,
      "outputs": [
        {
          "output_type": "stream",
          "name": "stdout",
          "text": [
            "0      5.400000\n",
            "1      1.750000\n",
            "2      2.830000\n",
            "3      2.940656\n",
            "4      6.100000\n",
            "         ...   \n",
            "189    2.440000\n",
            "190    1.790000\n",
            "191    4.350000\n",
            "192    5.770000\n",
            "193    3.640000\n",
            "Name: FertilityRate, Length: 194, dtype: float64\n"
          ]
        }
      ]
    },
    {
      "cell_type": "code",
      "source": [
        "df[\"CellularSubscribers\"] = df[\"CellularSubscribers\"].replace(np.NaN, df[\"CellularSubscribers\"].mean())\n",
        "print(df[\"CellularSubscribers\"][:194])"
      ],
      "metadata": {
        "colab": {
          "base_uri": "https://localhost:8080/"
        },
        "id": "s-yyt9EfB8zb",
        "outputId": "10369eda-4149-483d-cb00-efe5f3991431"
      },
      "execution_count": 11,
      "outputs": [
        {
          "output_type": "stream",
          "name": "stdout",
          "text": [
            "0       54.26\n",
            "1       96.39\n",
            "2       98.99\n",
            "3       75.49\n",
            "4       48.38\n",
            "        ...  \n",
            "189     97.78\n",
            "190    143.39\n",
            "191     47.05\n",
            "192     60.59\n",
            "193     72.13\n",
            "Name: CellularSubscribers, Length: 194, dtype: float64\n"
          ]
        }
      ]
    },
    {
      "cell_type": "code",
      "source": [
        "df[\"LiteracyRate\"] = df[\"LiteracyRate\"].replace(np.NaN, df[\"LiteracyRate\"].mean())\n",
        "print(df[\"LiteracyRate\"][:194])"
      ],
      "metadata": {
        "colab": {
          "base_uri": "https://localhost:8080/"
        },
        "id": "bY82bEOpCMqD",
        "outputId": "83478960-5500-4738-9b97-197b81b31259"
      },
      "execution_count": 12,
      "outputs": [
        {
          "output_type": "stream",
          "name": "stdout",
          "text": [
            "0      83.71068\n",
            "1      83.71068\n",
            "2      83.71068\n",
            "3      83.71068\n",
            "4      70.10000\n",
            "         ...   \n",
            "189    83.71068\n",
            "190    93.20000\n",
            "191    63.90000\n",
            "192    71.20000\n",
            "193    92.20000\n",
            "Name: LiteracyRate, Length: 194, dtype: float64\n"
          ]
        }
      ]
    },
    {
      "cell_type": "code",
      "source": [
        "df[\"GNI\"] = df[\"GNI\"].replace(np.NaN, df[\"GNI\"].mean())\n",
        "print(df[\"GNI\"][:194])"
      ],
      "metadata": {
        "colab": {
          "base_uri": "https://localhost:8080/"
        },
        "id": "pJyCeYbfCWor",
        "outputId": "e4833721-fb52-42c4-854b-733cb0bb974e"
      },
      "execution_count": 13,
      "outputs": [
        {
          "output_type": "stream",
          "name": "stdout",
          "text": [
            "0       1140.000000\n",
            "1       8820.000000\n",
            "2       8310.000000\n",
            "3      13320.925926\n",
            "4       5230.000000\n",
            "           ...     \n",
            "189    12430.000000\n",
            "190     3250.000000\n",
            "191     2170.000000\n",
            "192     1490.000000\n",
            "193    13320.925926\n",
            "Name: GNI, Length: 194, dtype: float64\n"
          ]
        }
      ]
    },
    {
      "cell_type": "code",
      "source": [
        "df[\"PrimarySchoolEnrollmentFemale\"] = df[\"PrimarySchoolEnrollmentFemale\"].replace(np.NaN, df[\"PrimarySchoolEnrollmentFemale\"].mean())\n",
        "print(df[\"PrimarySchoolEnrollmentFemale\"][:194])"
      ],
      "metadata": {
        "colab": {
          "base_uri": "https://localhost:8080/"
        },
        "id": "H4Przh6GCf0M",
        "outputId": "49a2eaa0-f59a-4a4f-8614-84c39e49c65d"
      },
      "execution_count": 14,
      "outputs": [
        {
          "output_type": "stream",
          "name": "stdout",
          "text": [
            "0      89.632673\n",
            "1      89.632673\n",
            "2      96.400000\n",
            "3      79.400000\n",
            "4      78.200000\n",
            "         ...    \n",
            "189    95.100000\n",
            "190    89.632673\n",
            "191    70.500000\n",
            "192    93.900000\n",
            "193    89.632673\n",
            "Name: PrimarySchoolEnrollmentFemale, Length: 194, dtype: float64\n"
          ]
        }
      ]
    },
    {
      "cell_type": "code",
      "source": [
        "df[\"PrimarySchoolEnrollmentMale\"] = df[\"PrimarySchoolEnrollmentMale\"].replace(np.NaN, df[\"PrimarySchoolEnrollmentMale\"].mean())\n",
        "print(df[\"PrimarySchoolEnrollmentMale\"][:194])"
      ],
      "metadata": {
        "colab": {
          "base_uri": "https://localhost:8080/"
        },
        "id": "oLnqjt7FCybf",
        "outputId": "52f4a121-7f8c-49e7-ce1a-e160a479b0f1"
      },
      "execution_count": 15,
      "outputs": [
        {
          "output_type": "stream",
          "name": "stdout",
          "text": [
            "0      90.850495\n",
            "1      90.850495\n",
            "2      98.200000\n",
            "3      78.400000\n",
            "4      93.100000\n",
            "         ...    \n",
            "189    94.700000\n",
            "190    90.850495\n",
            "191    85.500000\n",
            "192    91.400000\n",
            "193    90.850495\n",
            "Name: PrimarySchoolEnrollmentMale, Length: 194, dtype: float64\n"
          ]
        }
      ]
    },
    {
      "cell_type": "code",
      "source": [
        "health_and_demography_df = df"
      ],
      "metadata": {
        "id": "WqpAJltqC9Ws"
      },
      "execution_count": 16,
      "outputs": []
    },
    {
      "cell_type": "code",
      "source": [
        "print(health_and_demography_df.info())"
      ],
      "metadata": {
        "colab": {
          "base_uri": "https://localhost:8080/"
        },
        "id": "Wlfm3LMMDVEC",
        "outputId": "c96575c7-997e-4cbc-dfe4-449b55f5ce22"
      },
      "execution_count": 17,
      "outputs": [
        {
          "output_type": "stream",
          "name": "stdout",
          "text": [
            "<class 'pandas.core.frame.DataFrame'>\n",
            "RangeIndex: 194 entries, 0 to 193\n",
            "Data columns (total 13 columns):\n",
            " #   Column                         Non-Null Count  Dtype  \n",
            "---  ------                         --------------  -----  \n",
            " 0   Country                        194 non-null    object \n",
            " 1   Region                         194 non-null    object \n",
            " 2   Population                     194 non-null    int64  \n",
            " 3   Under15                        194 non-null    float64\n",
            " 4   Over60                         194 non-null    float64\n",
            " 5   FertilityRate                  194 non-null    float64\n",
            " 6   LifeExpectancy                 194 non-null    int64  \n",
            " 7   ChildMortality                 194 non-null    float64\n",
            " 8   CellularSubscribers            194 non-null    float64\n",
            " 9   LiteracyRate                   194 non-null    float64\n",
            " 10  GNI                            194 non-null    float64\n",
            " 11  PrimarySchoolEnrollmentMale    194 non-null    float64\n",
            " 12  PrimarySchoolEnrollmentFemale  194 non-null    float64\n",
            "dtypes: float64(9), int64(2), object(2)\n",
            "memory usage: 19.8+ KB\n",
            "None\n"
          ]
        }
      ]
    },
    {
      "cell_type": "markdown",
      "source": [
        "#Question3\n",
        "\n",
        "\n",
        "1.   I have fixed the errors of this dataframe by imputing the columns that have missing data with the mean of the known values.\n",
        "2.  I have also confirmed using the using the knew name of the dataframe that the problem was solved by displaying equal rows or datapoints of each column which 194.\n",
        "\n"
      ],
      "metadata": {
        "id": "vSc7M_GdE3Cl"
      }
    },
    {
      "cell_type": "code",
      "source": [
        "health_and_demography_df.Under15"
      ],
      "metadata": {
        "colab": {
          "base_uri": "https://localhost:8080/"
        },
        "id": "xRCftVm1EYxr",
        "outputId": "4ae4423c-c2a4-41ca-8829-4bc41da23e50"
      },
      "execution_count": 18,
      "outputs": [
        {
          "output_type": "execute_result",
          "data": {
            "text/plain": [
              "0      47.42\n",
              "1      21.33\n",
              "2      27.42\n",
              "3      15.20\n",
              "4      47.58\n",
              "       ...  \n",
              "189    28.84\n",
              "190    22.87\n",
              "191    40.72\n",
              "192    46.73\n",
              "193    40.24\n",
              "Name: Under15, Length: 194, dtype: float64"
            ]
          },
          "metadata": {},
          "execution_count": 18
        }
      ]
    },
    {
      "cell_type": "code",
      "source": [
        "health_and_demography_df.Under15.min()"
      ],
      "metadata": {
        "colab": {
          "base_uri": "https://localhost:8080/"
        },
        "id": "4tTzAaUHPlLN",
        "outputId": "44af9ef9-d176-4555-97a1-7aa1b3d9547c"
      },
      "execution_count": 19,
      "outputs": [
        {
          "output_type": "execute_result",
          "data": {
            "text/plain": [
              "13.12"
            ]
          },
          "metadata": {},
          "execution_count": 19
        }
      ]
    },
    {
      "cell_type": "code",
      "source": [
        "health_and_demography_df[health_and_demography_df.Under15 == 13.12]"
      ],
      "metadata": {
        "colab": {
          "base_uri": "https://localhost:8080/",
          "height": 118
        },
        "id": "ZKkEHapXQHhK",
        "outputId": "ddceebda-e52a-4e89-c7ed-e384af04944c"
      },
      "execution_count": null,
      "outputs": [
        {
          "output_type": "execute_result",
          "data": {
            "text/plain": [
              "   Country           Region  Population  Under15  Over60  FertilityRate  \\\n",
              "85   Japan  Western Pacific      127000    13.12   31.92           1.39   \n",
              "\n",
              "    LifeExpectancy  ChildMortality  CellularSubscribers  LiteracyRate  \\\n",
              "85              83             3.0               104.95      83.71068   \n",
              "\n",
              "        GNI  PrimarySchoolEnrollmentMale  PrimarySchoolEnrollmentFemale  \n",
              "85  35330.0                    90.850495                      89.632673  "
            ],
            "text/html": [
              "\n",
              "  <div id=\"df-8516b193-2b08-4976-90e2-37f84a1909fb\" class=\"colab-df-container\">\n",
              "    <div>\n",
              "<style scoped>\n",
              "    .dataframe tbody tr th:only-of-type {\n",
              "        vertical-align: middle;\n",
              "    }\n",
              "\n",
              "    .dataframe tbody tr th {\n",
              "        vertical-align: top;\n",
              "    }\n",
              "\n",
              "    .dataframe thead th {\n",
              "        text-align: right;\n",
              "    }\n",
              "</style>\n",
              "<table border=\"1\" class=\"dataframe\">\n",
              "  <thead>\n",
              "    <tr style=\"text-align: right;\">\n",
              "      <th></th>\n",
              "      <th>Country</th>\n",
              "      <th>Region</th>\n",
              "      <th>Population</th>\n",
              "      <th>Under15</th>\n",
              "      <th>Over60</th>\n",
              "      <th>FertilityRate</th>\n",
              "      <th>LifeExpectancy</th>\n",
              "      <th>ChildMortality</th>\n",
              "      <th>CellularSubscribers</th>\n",
              "      <th>LiteracyRate</th>\n",
              "      <th>GNI</th>\n",
              "      <th>PrimarySchoolEnrollmentMale</th>\n",
              "      <th>PrimarySchoolEnrollmentFemale</th>\n",
              "    </tr>\n",
              "  </thead>\n",
              "  <tbody>\n",
              "    <tr>\n",
              "      <th>85</th>\n",
              "      <td>Japan</td>\n",
              "      <td>Western Pacific</td>\n",
              "      <td>127000</td>\n",
              "      <td>13.12</td>\n",
              "      <td>31.92</td>\n",
              "      <td>1.39</td>\n",
              "      <td>83</td>\n",
              "      <td>3.0</td>\n",
              "      <td>104.95</td>\n",
              "      <td>83.71068</td>\n",
              "      <td>35330.0</td>\n",
              "      <td>90.850495</td>\n",
              "      <td>89.632673</td>\n",
              "    </tr>\n",
              "  </tbody>\n",
              "</table>\n",
              "</div>\n",
              "    <div class=\"colab-df-buttons\">\n",
              "\n",
              "  <div class=\"colab-df-container\">\n",
              "    <button class=\"colab-df-convert\" onclick=\"convertToInteractive('df-8516b193-2b08-4976-90e2-37f84a1909fb')\"\n",
              "            title=\"Convert this dataframe to an interactive table.\"\n",
              "            style=\"display:none;\">\n",
              "\n",
              "  <svg xmlns=\"http://www.w3.org/2000/svg\" height=\"24px\" viewBox=\"0 -960 960 960\">\n",
              "    <path d=\"M120-120v-720h720v720H120Zm60-500h600v-160H180v160Zm220 220h160v-160H400v160Zm0 220h160v-160H400v160ZM180-400h160v-160H180v160Zm440 0h160v-160H620v160ZM180-180h160v-160H180v160Zm440 0h160v-160H620v160Z\"/>\n",
              "  </svg>\n",
              "    </button>\n",
              "\n",
              "  <style>\n",
              "    .colab-df-container {\n",
              "      display:flex;\n",
              "      gap: 12px;\n",
              "    }\n",
              "\n",
              "    .colab-df-convert {\n",
              "      background-color: #E8F0FE;\n",
              "      border: none;\n",
              "      border-radius: 50%;\n",
              "      cursor: pointer;\n",
              "      display: none;\n",
              "      fill: #1967D2;\n",
              "      height: 32px;\n",
              "      padding: 0 0 0 0;\n",
              "      width: 32px;\n",
              "    }\n",
              "\n",
              "    .colab-df-convert:hover {\n",
              "      background-color: #E2EBFA;\n",
              "      box-shadow: 0px 1px 2px rgba(60, 64, 67, 0.3), 0px 1px 3px 1px rgba(60, 64, 67, 0.15);\n",
              "      fill: #174EA6;\n",
              "    }\n",
              "\n",
              "    .colab-df-buttons div {\n",
              "      margin-bottom: 4px;\n",
              "    }\n",
              "\n",
              "    [theme=dark] .colab-df-convert {\n",
              "      background-color: #3B4455;\n",
              "      fill: #D2E3FC;\n",
              "    }\n",
              "\n",
              "    [theme=dark] .colab-df-convert:hover {\n",
              "      background-color: #434B5C;\n",
              "      box-shadow: 0px 1px 3px 1px rgba(0, 0, 0, 0.15);\n",
              "      filter: drop-shadow(0px 1px 2px rgba(0, 0, 0, 0.3));\n",
              "      fill: #FFFFFF;\n",
              "    }\n",
              "  </style>\n",
              "\n",
              "    <script>\n",
              "      const buttonEl =\n",
              "        document.querySelector('#df-8516b193-2b08-4976-90e2-37f84a1909fb button.colab-df-convert');\n",
              "      buttonEl.style.display =\n",
              "        google.colab.kernel.accessAllowed ? 'block' : 'none';\n",
              "\n",
              "      async function convertToInteractive(key) {\n",
              "        const element = document.querySelector('#df-8516b193-2b08-4976-90e2-37f84a1909fb');\n",
              "        const dataTable =\n",
              "          await google.colab.kernel.invokeFunction('convertToInteractive',\n",
              "                                                    [key], {});\n",
              "        if (!dataTable) return;\n",
              "\n",
              "        const docLinkHtml = 'Like what you see? Visit the ' +\n",
              "          '<a target=\"_blank\" href=https://colab.research.google.com/notebooks/data_table.ipynb>data table notebook</a>'\n",
              "          + ' to learn more about interactive tables.';\n",
              "        element.innerHTML = '';\n",
              "        dataTable['output_type'] = 'display_data';\n",
              "        await google.colab.output.renderOutput(dataTable, element);\n",
              "        const docLink = document.createElement('div');\n",
              "        docLink.innerHTML = docLinkHtml;\n",
              "        element.appendChild(docLink);\n",
              "      }\n",
              "    </script>\n",
              "  </div>\n",
              "\n",
              "\n",
              "    </div>\n",
              "  </div>\n"
            ],
            "application/vnd.google.colaboratory.intrinsic+json": {
              "type": "dataframe",
              "summary": "{\n  \"name\": \"health_and_demography_df[health_and_demography_df\",\n  \"rows\": 1,\n  \"fields\": [\n    {\n      \"column\": \"Country\",\n      \"properties\": {\n        \"dtype\": \"string\",\n        \"num_unique_values\": 1,\n        \"samples\": [\n          \"Japan\"\n        ],\n        \"semantic_type\": \"\",\n        \"description\": \"\"\n      }\n    },\n    {\n      \"column\": \"Region\",\n      \"properties\": {\n        \"dtype\": \"string\",\n        \"num_unique_values\": 1,\n        \"samples\": [\n          \"Western Pacific\"\n        ],\n        \"semantic_type\": \"\",\n        \"description\": \"\"\n      }\n    },\n    {\n      \"column\": \"Population\",\n      \"properties\": {\n        \"dtype\": \"number\",\n        \"std\": null,\n        \"min\": 127000,\n        \"max\": 127000,\n        \"num_unique_values\": 1,\n        \"samples\": [\n          127000\n        ],\n        \"semantic_type\": \"\",\n        \"description\": \"\"\n      }\n    },\n    {\n      \"column\": \"Under15\",\n      \"properties\": {\n        \"dtype\": \"number\",\n        \"std\": null,\n        \"min\": 13.12,\n        \"max\": 13.12,\n        \"num_unique_values\": 1,\n        \"samples\": [\n          13.12\n        ],\n        \"semantic_type\": \"\",\n        \"description\": \"\"\n      }\n    },\n    {\n      \"column\": \"Over60\",\n      \"properties\": {\n        \"dtype\": \"number\",\n        \"std\": null,\n        \"min\": 31.92,\n        \"max\": 31.92,\n        \"num_unique_values\": 1,\n        \"samples\": [\n          31.92\n        ],\n        \"semantic_type\": \"\",\n        \"description\": \"\"\n      }\n    },\n    {\n      \"column\": \"FertilityRate\",\n      \"properties\": {\n        \"dtype\": \"number\",\n        \"std\": null,\n        \"min\": 1.39,\n        \"max\": 1.39,\n        \"num_unique_values\": 1,\n        \"samples\": [\n          1.39\n        ],\n        \"semantic_type\": \"\",\n        \"description\": \"\"\n      }\n    },\n    {\n      \"column\": \"LifeExpectancy\",\n      \"properties\": {\n        \"dtype\": \"number\",\n        \"std\": null,\n        \"min\": 83,\n        \"max\": 83,\n        \"num_unique_values\": 1,\n        \"samples\": [\n          83\n        ],\n        \"semantic_type\": \"\",\n        \"description\": \"\"\n      }\n    },\n    {\n      \"column\": \"ChildMortality\",\n      \"properties\": {\n        \"dtype\": \"number\",\n        \"std\": null,\n        \"min\": 3.0,\n        \"max\": 3.0,\n        \"num_unique_values\": 1,\n        \"samples\": [\n          3.0\n        ],\n        \"semantic_type\": \"\",\n        \"description\": \"\"\n      }\n    },\n    {\n      \"column\": \"CellularSubscribers\",\n      \"properties\": {\n        \"dtype\": \"number\",\n        \"std\": null,\n        \"min\": 104.95,\n        \"max\": 104.95,\n        \"num_unique_values\": 1,\n        \"samples\": [\n          104.95\n        ],\n        \"semantic_type\": \"\",\n        \"description\": \"\"\n      }\n    },\n    {\n      \"column\": \"LiteracyRate\",\n      \"properties\": {\n        \"dtype\": \"number\",\n        \"std\": null,\n        \"min\": 83.71067961165049,\n        \"max\": 83.71067961165049,\n        \"num_unique_values\": 1,\n        \"samples\": [\n          83.71067961165049\n        ],\n        \"semantic_type\": \"\",\n        \"description\": \"\"\n      }\n    },\n    {\n      \"column\": \"GNI\",\n      \"properties\": {\n        \"dtype\": \"number\",\n        \"std\": null,\n        \"min\": 35330.0,\n        \"max\": 35330.0,\n        \"num_unique_values\": 1,\n        \"samples\": [\n          35330.0\n        ],\n        \"semantic_type\": \"\",\n        \"description\": \"\"\n      }\n    },\n    {\n      \"column\": \"PrimarySchoolEnrollmentMale\",\n      \"properties\": {\n        \"dtype\": \"number\",\n        \"std\": null,\n        \"min\": 90.85049504950493,\n        \"max\": 90.85049504950493,\n        \"num_unique_values\": 1,\n        \"samples\": [\n          90.85049504950493\n        ],\n        \"semantic_type\": \"\",\n        \"description\": \"\"\n      }\n    },\n    {\n      \"column\": \"PrimarySchoolEnrollmentFemale\",\n      \"properties\": {\n        \"dtype\": \"number\",\n        \"std\": null,\n        \"min\": 89.63267326732672,\n        \"max\": 89.63267326732672,\n        \"num_unique_values\": 1,\n        \"samples\": [\n          89.63267326732672\n        ],\n        \"semantic_type\": \"\",\n        \"description\": \"\"\n      }\n    }\n  ]\n}"
            }
          },
          "metadata": {},
          "execution_count": 20
        }
      ]
    },
    {
      "cell_type": "code",
      "source": [
        "country_with_lowest_population_percentage_under_15 = \"japan\""
      ],
      "metadata": {
        "id": "WlzfzA2pSLrn"
      },
      "execution_count": 20,
      "outputs": []
    },
    {
      "cell_type": "markdown",
      "source": [
        "#Question4\n",
        "\n",
        "\n",
        "1.   Japan is the country with the lowest population percentage of people under the age of 15.\n",
        "\n"
      ],
      "metadata": {
        "id": "01kCgHvFI7cI"
      }
    },
    {
      "cell_type": "code",
      "source": [
        "health_and_demography_df.Under15.max()"
      ],
      "metadata": {
        "colab": {
          "base_uri": "https://localhost:8080/"
        },
        "id": "nBll1xDiSYko",
        "outputId": "d5bfd860-1291-4252-82b9-843753a9aa58"
      },
      "execution_count": 21,
      "outputs": [
        {
          "output_type": "execute_result",
          "data": {
            "text/plain": [
              "49.99"
            ]
          },
          "metadata": {},
          "execution_count": 21
        }
      ]
    },
    {
      "cell_type": "code",
      "source": [
        "health_and_demography_df[health_and_demography_df.Under15 == 49.99]"
      ],
      "metadata": {
        "colab": {
          "base_uri": "https://localhost:8080/",
          "height": 101
        },
        "id": "IyLylbWISpf3",
        "outputId": "e4a5b07b-f183-4b54-ccb8-b4d6bc20e60d"
      },
      "execution_count": 22,
      "outputs": [
        {
          "output_type": "execute_result",
          "data": {
            "text/plain": [
              "    Country  Region  Population  Under15  Over60  FertilityRate  \\\n",
              "123   Niger  Africa       17157    49.99    4.26           7.58   \n",
              "\n",
              "     LifeExpectancy  ChildMortality  CellularSubscribers  LiteracyRate    GNI  \\\n",
              "123              56           113.5                29.52      83.71068  720.0   \n",
              "\n",
              "     PrimarySchoolEnrollmentMale  PrimarySchoolEnrollmentFemale  \n",
              "123                         64.2                           52.0  "
            ],
            "text/html": [
              "\n",
              "  <div id=\"df-5b901154-5192-491b-beff-1a8c69cc0f5d\" class=\"colab-df-container\">\n",
              "    <div>\n",
              "<style scoped>\n",
              "    .dataframe tbody tr th:only-of-type {\n",
              "        vertical-align: middle;\n",
              "    }\n",
              "\n",
              "    .dataframe tbody tr th {\n",
              "        vertical-align: top;\n",
              "    }\n",
              "\n",
              "    .dataframe thead th {\n",
              "        text-align: right;\n",
              "    }\n",
              "</style>\n",
              "<table border=\"1\" class=\"dataframe\">\n",
              "  <thead>\n",
              "    <tr style=\"text-align: right;\">\n",
              "      <th></th>\n",
              "      <th>Country</th>\n",
              "      <th>Region</th>\n",
              "      <th>Population</th>\n",
              "      <th>Under15</th>\n",
              "      <th>Over60</th>\n",
              "      <th>FertilityRate</th>\n",
              "      <th>LifeExpectancy</th>\n",
              "      <th>ChildMortality</th>\n",
              "      <th>CellularSubscribers</th>\n",
              "      <th>LiteracyRate</th>\n",
              "      <th>GNI</th>\n",
              "      <th>PrimarySchoolEnrollmentMale</th>\n",
              "      <th>PrimarySchoolEnrollmentFemale</th>\n",
              "    </tr>\n",
              "  </thead>\n",
              "  <tbody>\n",
              "    <tr>\n",
              "      <th>123</th>\n",
              "      <td>Niger</td>\n",
              "      <td>Africa</td>\n",
              "      <td>17157</td>\n",
              "      <td>49.99</td>\n",
              "      <td>4.26</td>\n",
              "      <td>7.58</td>\n",
              "      <td>56</td>\n",
              "      <td>113.5</td>\n",
              "      <td>29.52</td>\n",
              "      <td>83.71068</td>\n",
              "      <td>720.0</td>\n",
              "      <td>64.2</td>\n",
              "      <td>52.0</td>\n",
              "    </tr>\n",
              "  </tbody>\n",
              "</table>\n",
              "</div>\n",
              "    <div class=\"colab-df-buttons\">\n",
              "\n",
              "  <div class=\"colab-df-container\">\n",
              "    <button class=\"colab-df-convert\" onclick=\"convertToInteractive('df-5b901154-5192-491b-beff-1a8c69cc0f5d')\"\n",
              "            title=\"Convert this dataframe to an interactive table.\"\n",
              "            style=\"display:none;\">\n",
              "\n",
              "  <svg xmlns=\"http://www.w3.org/2000/svg\" height=\"24px\" viewBox=\"0 -960 960 960\">\n",
              "    <path d=\"M120-120v-720h720v720H120Zm60-500h600v-160H180v160Zm220 220h160v-160H400v160Zm0 220h160v-160H400v160ZM180-400h160v-160H180v160Zm440 0h160v-160H620v160ZM180-180h160v-160H180v160Zm440 0h160v-160H620v160Z\"/>\n",
              "  </svg>\n",
              "    </button>\n",
              "\n",
              "  <style>\n",
              "    .colab-df-container {\n",
              "      display:flex;\n",
              "      gap: 12px;\n",
              "    }\n",
              "\n",
              "    .colab-df-convert {\n",
              "      background-color: #E8F0FE;\n",
              "      border: none;\n",
              "      border-radius: 50%;\n",
              "      cursor: pointer;\n",
              "      display: none;\n",
              "      fill: #1967D2;\n",
              "      height: 32px;\n",
              "      padding: 0 0 0 0;\n",
              "      width: 32px;\n",
              "    }\n",
              "\n",
              "    .colab-df-convert:hover {\n",
              "      background-color: #E2EBFA;\n",
              "      box-shadow: 0px 1px 2px rgba(60, 64, 67, 0.3), 0px 1px 3px 1px rgba(60, 64, 67, 0.15);\n",
              "      fill: #174EA6;\n",
              "    }\n",
              "\n",
              "    .colab-df-buttons div {\n",
              "      margin-bottom: 4px;\n",
              "    }\n",
              "\n",
              "    [theme=dark] .colab-df-convert {\n",
              "      background-color: #3B4455;\n",
              "      fill: #D2E3FC;\n",
              "    }\n",
              "\n",
              "    [theme=dark] .colab-df-convert:hover {\n",
              "      background-color: #434B5C;\n",
              "      box-shadow: 0px 1px 3px 1px rgba(0, 0, 0, 0.15);\n",
              "      filter: drop-shadow(0px 1px 2px rgba(0, 0, 0, 0.3));\n",
              "      fill: #FFFFFF;\n",
              "    }\n",
              "  </style>\n",
              "\n",
              "    <script>\n",
              "      const buttonEl =\n",
              "        document.querySelector('#df-5b901154-5192-491b-beff-1a8c69cc0f5d button.colab-df-convert');\n",
              "      buttonEl.style.display =\n",
              "        google.colab.kernel.accessAllowed ? 'block' : 'none';\n",
              "\n",
              "      async function convertToInteractive(key) {\n",
              "        const element = document.querySelector('#df-5b901154-5192-491b-beff-1a8c69cc0f5d');\n",
              "        const dataTable =\n",
              "          await google.colab.kernel.invokeFunction('convertToInteractive',\n",
              "                                                    [key], {});\n",
              "        if (!dataTable) return;\n",
              "\n",
              "        const docLinkHtml = 'Like what you see? Visit the ' +\n",
              "          '<a target=\"_blank\" href=https://colab.research.google.com/notebooks/data_table.ipynb>data table notebook</a>'\n",
              "          + ' to learn more about interactive tables.';\n",
              "        element.innerHTML = '';\n",
              "        dataTable['output_type'] = 'display_data';\n",
              "        await google.colab.output.renderOutput(dataTable, element);\n",
              "        const docLink = document.createElement('div');\n",
              "        docLink.innerHTML = docLinkHtml;\n",
              "        element.appendChild(docLink);\n",
              "      }\n",
              "    </script>\n",
              "  </div>\n",
              "\n",
              "\n",
              "    </div>\n",
              "  </div>\n"
            ],
            "application/vnd.google.colaboratory.intrinsic+json": {
              "type": "dataframe",
              "summary": "{\n  \"name\": \"health_and_demography_df[health_and_demography_df\",\n  \"rows\": 1,\n  \"fields\": [\n    {\n      \"column\": \"Country\",\n      \"properties\": {\n        \"dtype\": \"string\",\n        \"num_unique_values\": 1,\n        \"samples\": [\n          \"Niger\"\n        ],\n        \"semantic_type\": \"\",\n        \"description\": \"\"\n      }\n    },\n    {\n      \"column\": \"Region\",\n      \"properties\": {\n        \"dtype\": \"string\",\n        \"num_unique_values\": 1,\n        \"samples\": [\n          \"Africa\"\n        ],\n        \"semantic_type\": \"\",\n        \"description\": \"\"\n      }\n    },\n    {\n      \"column\": \"Population\",\n      \"properties\": {\n        \"dtype\": \"number\",\n        \"std\": null,\n        \"min\": 17157,\n        \"max\": 17157,\n        \"num_unique_values\": 1,\n        \"samples\": [\n          17157\n        ],\n        \"semantic_type\": \"\",\n        \"description\": \"\"\n      }\n    },\n    {\n      \"column\": \"Under15\",\n      \"properties\": {\n        \"dtype\": \"number\",\n        \"std\": null,\n        \"min\": 49.99,\n        \"max\": 49.99,\n        \"num_unique_values\": 1,\n        \"samples\": [\n          49.99\n        ],\n        \"semantic_type\": \"\",\n        \"description\": \"\"\n      }\n    },\n    {\n      \"column\": \"Over60\",\n      \"properties\": {\n        \"dtype\": \"number\",\n        \"std\": null,\n        \"min\": 4.26,\n        \"max\": 4.26,\n        \"num_unique_values\": 1,\n        \"samples\": [\n          4.26\n        ],\n        \"semantic_type\": \"\",\n        \"description\": \"\"\n      }\n    },\n    {\n      \"column\": \"FertilityRate\",\n      \"properties\": {\n        \"dtype\": \"number\",\n        \"std\": null,\n        \"min\": 7.58,\n        \"max\": 7.58,\n        \"num_unique_values\": 1,\n        \"samples\": [\n          7.58\n        ],\n        \"semantic_type\": \"\",\n        \"description\": \"\"\n      }\n    },\n    {\n      \"column\": \"LifeExpectancy\",\n      \"properties\": {\n        \"dtype\": \"number\",\n        \"std\": null,\n        \"min\": 56,\n        \"max\": 56,\n        \"num_unique_values\": 1,\n        \"samples\": [\n          56\n        ],\n        \"semantic_type\": \"\",\n        \"description\": \"\"\n      }\n    },\n    {\n      \"column\": \"ChildMortality\",\n      \"properties\": {\n        \"dtype\": \"number\",\n        \"std\": null,\n        \"min\": 113.5,\n        \"max\": 113.5,\n        \"num_unique_values\": 1,\n        \"samples\": [\n          113.5\n        ],\n        \"semantic_type\": \"\",\n        \"description\": \"\"\n      }\n    },\n    {\n      \"column\": \"CellularSubscribers\",\n      \"properties\": {\n        \"dtype\": \"number\",\n        \"std\": null,\n        \"min\": 29.52,\n        \"max\": 29.52,\n        \"num_unique_values\": 1,\n        \"samples\": [\n          29.52\n        ],\n        \"semantic_type\": \"\",\n        \"description\": \"\"\n      }\n    },\n    {\n      \"column\": \"LiteracyRate\",\n      \"properties\": {\n        \"dtype\": \"number\",\n        \"std\": null,\n        \"min\": 83.71067961165049,\n        \"max\": 83.71067961165049,\n        \"num_unique_values\": 1,\n        \"samples\": [\n          83.71067961165049\n        ],\n        \"semantic_type\": \"\",\n        \"description\": \"\"\n      }\n    },\n    {\n      \"column\": \"GNI\",\n      \"properties\": {\n        \"dtype\": \"number\",\n        \"std\": null,\n        \"min\": 720.0,\n        \"max\": 720.0,\n        \"num_unique_values\": 1,\n        \"samples\": [\n          720.0\n        ],\n        \"semantic_type\": \"\",\n        \"description\": \"\"\n      }\n    },\n    {\n      \"column\": \"PrimarySchoolEnrollmentMale\",\n      \"properties\": {\n        \"dtype\": \"number\",\n        \"std\": null,\n        \"min\": 64.2,\n        \"max\": 64.2,\n        \"num_unique_values\": 1,\n        \"samples\": [\n          64.2\n        ],\n        \"semantic_type\": \"\",\n        \"description\": \"\"\n      }\n    },\n    {\n      \"column\": \"PrimarySchoolEnrollmentFemale\",\n      \"properties\": {\n        \"dtype\": \"number\",\n        \"std\": null,\n        \"min\": 52.0,\n        \"max\": 52.0,\n        \"num_unique_values\": 1,\n        \"samples\": [\n          52.0\n        ],\n        \"semantic_type\": \"\",\n        \"description\": \"\"\n      }\n    }\n  ]\n}"
            }
          },
          "metadata": {},
          "execution_count": 22
        }
      ]
    },
    {
      "cell_type": "code",
      "source": [
        "country_with_highest_population_percentage_under_15 = \"Niger\""
      ],
      "metadata": {
        "id": "kv0zZDy2S6Y_"
      },
      "execution_count": 23,
      "outputs": []
    },
    {
      "cell_type": "markdown",
      "source": [
        "#Question4\n",
        "\n",
        "\n",
        "2.   Niger is the country with the highest percentage of people under the age of 15.\n",
        "\n"
      ],
      "metadata": {
        "id": "HZW88FZPKHBd"
      }
    },
    {
      "cell_type": "code",
      "source": [
        "health_and_demography_df.Over60.max()"
      ],
      "metadata": {
        "colab": {
          "base_uri": "https://localhost:8080/"
        },
        "id": "dA8HgbwBTKd_",
        "outputId": "bfa7c55f-7631-4fa7-e3dc-3dfa63a7f3d4"
      },
      "execution_count": 24,
      "outputs": [
        {
          "output_type": "execute_result",
          "data": {
            "text/plain": [
              "31.92"
            ]
          },
          "metadata": {},
          "execution_count": 24
        }
      ]
    },
    {
      "cell_type": "code",
      "source": [
        "health_and_demography_df[health_and_demography_df.Over60 == 31.92]"
      ],
      "metadata": {
        "colab": {
          "base_uri": "https://localhost:8080/",
          "height": 118
        },
        "id": "LFXH8slrVDCv",
        "outputId": "499fc2cc-af78-4862-e6a3-eadb06913e7c"
      },
      "execution_count": 25,
      "outputs": [
        {
          "output_type": "execute_result",
          "data": {
            "text/plain": [
              "   Country           Region  Population  Under15  Over60  FertilityRate  \\\n",
              "85   Japan  Western Pacific      127000    13.12   31.92           1.39   \n",
              "\n",
              "    LifeExpectancy  ChildMortality  CellularSubscribers  LiteracyRate  \\\n",
              "85              83             3.0               104.95      83.71068   \n",
              "\n",
              "        GNI  PrimarySchoolEnrollmentMale  PrimarySchoolEnrollmentFemale  \n",
              "85  35330.0                    90.850495                      89.632673  "
            ],
            "text/html": [
              "\n",
              "  <div id=\"df-ea3faf11-8f83-433f-a872-ea5974f36038\" class=\"colab-df-container\">\n",
              "    <div>\n",
              "<style scoped>\n",
              "    .dataframe tbody tr th:only-of-type {\n",
              "        vertical-align: middle;\n",
              "    }\n",
              "\n",
              "    .dataframe tbody tr th {\n",
              "        vertical-align: top;\n",
              "    }\n",
              "\n",
              "    .dataframe thead th {\n",
              "        text-align: right;\n",
              "    }\n",
              "</style>\n",
              "<table border=\"1\" class=\"dataframe\">\n",
              "  <thead>\n",
              "    <tr style=\"text-align: right;\">\n",
              "      <th></th>\n",
              "      <th>Country</th>\n",
              "      <th>Region</th>\n",
              "      <th>Population</th>\n",
              "      <th>Under15</th>\n",
              "      <th>Over60</th>\n",
              "      <th>FertilityRate</th>\n",
              "      <th>LifeExpectancy</th>\n",
              "      <th>ChildMortality</th>\n",
              "      <th>CellularSubscribers</th>\n",
              "      <th>LiteracyRate</th>\n",
              "      <th>GNI</th>\n",
              "      <th>PrimarySchoolEnrollmentMale</th>\n",
              "      <th>PrimarySchoolEnrollmentFemale</th>\n",
              "    </tr>\n",
              "  </thead>\n",
              "  <tbody>\n",
              "    <tr>\n",
              "      <th>85</th>\n",
              "      <td>Japan</td>\n",
              "      <td>Western Pacific</td>\n",
              "      <td>127000</td>\n",
              "      <td>13.12</td>\n",
              "      <td>31.92</td>\n",
              "      <td>1.39</td>\n",
              "      <td>83</td>\n",
              "      <td>3.0</td>\n",
              "      <td>104.95</td>\n",
              "      <td>83.71068</td>\n",
              "      <td>35330.0</td>\n",
              "      <td>90.850495</td>\n",
              "      <td>89.632673</td>\n",
              "    </tr>\n",
              "  </tbody>\n",
              "</table>\n",
              "</div>\n",
              "    <div class=\"colab-df-buttons\">\n",
              "\n",
              "  <div class=\"colab-df-container\">\n",
              "    <button class=\"colab-df-convert\" onclick=\"convertToInteractive('df-ea3faf11-8f83-433f-a872-ea5974f36038')\"\n",
              "            title=\"Convert this dataframe to an interactive table.\"\n",
              "            style=\"display:none;\">\n",
              "\n",
              "  <svg xmlns=\"http://www.w3.org/2000/svg\" height=\"24px\" viewBox=\"0 -960 960 960\">\n",
              "    <path d=\"M120-120v-720h720v720H120Zm60-500h600v-160H180v160Zm220 220h160v-160H400v160Zm0 220h160v-160H400v160ZM180-400h160v-160H180v160Zm440 0h160v-160H620v160ZM180-180h160v-160H180v160Zm440 0h160v-160H620v160Z\"/>\n",
              "  </svg>\n",
              "    </button>\n",
              "\n",
              "  <style>\n",
              "    .colab-df-container {\n",
              "      display:flex;\n",
              "      gap: 12px;\n",
              "    }\n",
              "\n",
              "    .colab-df-convert {\n",
              "      background-color: #E8F0FE;\n",
              "      border: none;\n",
              "      border-radius: 50%;\n",
              "      cursor: pointer;\n",
              "      display: none;\n",
              "      fill: #1967D2;\n",
              "      height: 32px;\n",
              "      padding: 0 0 0 0;\n",
              "      width: 32px;\n",
              "    }\n",
              "\n",
              "    .colab-df-convert:hover {\n",
              "      background-color: #E2EBFA;\n",
              "      box-shadow: 0px 1px 2px rgba(60, 64, 67, 0.3), 0px 1px 3px 1px rgba(60, 64, 67, 0.15);\n",
              "      fill: #174EA6;\n",
              "    }\n",
              "\n",
              "    .colab-df-buttons div {\n",
              "      margin-bottom: 4px;\n",
              "    }\n",
              "\n",
              "    [theme=dark] .colab-df-convert {\n",
              "      background-color: #3B4455;\n",
              "      fill: #D2E3FC;\n",
              "    }\n",
              "\n",
              "    [theme=dark] .colab-df-convert:hover {\n",
              "      background-color: #434B5C;\n",
              "      box-shadow: 0px 1px 3px 1px rgba(0, 0, 0, 0.15);\n",
              "      filter: drop-shadow(0px 1px 2px rgba(0, 0, 0, 0.3));\n",
              "      fill: #FFFFFF;\n",
              "    }\n",
              "  </style>\n",
              "\n",
              "    <script>\n",
              "      const buttonEl =\n",
              "        document.querySelector('#df-ea3faf11-8f83-433f-a872-ea5974f36038 button.colab-df-convert');\n",
              "      buttonEl.style.display =\n",
              "        google.colab.kernel.accessAllowed ? 'block' : 'none';\n",
              "\n",
              "      async function convertToInteractive(key) {\n",
              "        const element = document.querySelector('#df-ea3faf11-8f83-433f-a872-ea5974f36038');\n",
              "        const dataTable =\n",
              "          await google.colab.kernel.invokeFunction('convertToInteractive',\n",
              "                                                    [key], {});\n",
              "        if (!dataTable) return;\n",
              "\n",
              "        const docLinkHtml = 'Like what you see? Visit the ' +\n",
              "          '<a target=\"_blank\" href=https://colab.research.google.com/notebooks/data_table.ipynb>data table notebook</a>'\n",
              "          + ' to learn more about interactive tables.';\n",
              "        element.innerHTML = '';\n",
              "        dataTable['output_type'] = 'display_data';\n",
              "        await google.colab.output.renderOutput(dataTable, element);\n",
              "        const docLink = document.createElement('div');\n",
              "        docLink.innerHTML = docLinkHtml;\n",
              "        element.appendChild(docLink);\n",
              "      }\n",
              "    </script>\n",
              "  </div>\n",
              "\n",
              "\n",
              "    </div>\n",
              "  </div>\n"
            ],
            "application/vnd.google.colaboratory.intrinsic+json": {
              "type": "dataframe",
              "summary": "{\n  \"name\": \"health_and_demography_df[health_and_demography_df\",\n  \"rows\": 1,\n  \"fields\": [\n    {\n      \"column\": \"Country\",\n      \"properties\": {\n        \"dtype\": \"string\",\n        \"num_unique_values\": 1,\n        \"samples\": [\n          \"Japan\"\n        ],\n        \"semantic_type\": \"\",\n        \"description\": \"\"\n      }\n    },\n    {\n      \"column\": \"Region\",\n      \"properties\": {\n        \"dtype\": \"string\",\n        \"num_unique_values\": 1,\n        \"samples\": [\n          \"Western Pacific\"\n        ],\n        \"semantic_type\": \"\",\n        \"description\": \"\"\n      }\n    },\n    {\n      \"column\": \"Population\",\n      \"properties\": {\n        \"dtype\": \"number\",\n        \"std\": null,\n        \"min\": 127000,\n        \"max\": 127000,\n        \"num_unique_values\": 1,\n        \"samples\": [\n          127000\n        ],\n        \"semantic_type\": \"\",\n        \"description\": \"\"\n      }\n    },\n    {\n      \"column\": \"Under15\",\n      \"properties\": {\n        \"dtype\": \"number\",\n        \"std\": null,\n        \"min\": 13.12,\n        \"max\": 13.12,\n        \"num_unique_values\": 1,\n        \"samples\": [\n          13.12\n        ],\n        \"semantic_type\": \"\",\n        \"description\": \"\"\n      }\n    },\n    {\n      \"column\": \"Over60\",\n      \"properties\": {\n        \"dtype\": \"number\",\n        \"std\": null,\n        \"min\": 31.92,\n        \"max\": 31.92,\n        \"num_unique_values\": 1,\n        \"samples\": [\n          31.92\n        ],\n        \"semantic_type\": \"\",\n        \"description\": \"\"\n      }\n    },\n    {\n      \"column\": \"FertilityRate\",\n      \"properties\": {\n        \"dtype\": \"number\",\n        \"std\": null,\n        \"min\": 1.39,\n        \"max\": 1.39,\n        \"num_unique_values\": 1,\n        \"samples\": [\n          1.39\n        ],\n        \"semantic_type\": \"\",\n        \"description\": \"\"\n      }\n    },\n    {\n      \"column\": \"LifeExpectancy\",\n      \"properties\": {\n        \"dtype\": \"number\",\n        \"std\": null,\n        \"min\": 83,\n        \"max\": 83,\n        \"num_unique_values\": 1,\n        \"samples\": [\n          83\n        ],\n        \"semantic_type\": \"\",\n        \"description\": \"\"\n      }\n    },\n    {\n      \"column\": \"ChildMortality\",\n      \"properties\": {\n        \"dtype\": \"number\",\n        \"std\": null,\n        \"min\": 3.0,\n        \"max\": 3.0,\n        \"num_unique_values\": 1,\n        \"samples\": [\n          3.0\n        ],\n        \"semantic_type\": \"\",\n        \"description\": \"\"\n      }\n    },\n    {\n      \"column\": \"CellularSubscribers\",\n      \"properties\": {\n        \"dtype\": \"number\",\n        \"std\": null,\n        \"min\": 104.95,\n        \"max\": 104.95,\n        \"num_unique_values\": 1,\n        \"samples\": [\n          104.95\n        ],\n        \"semantic_type\": \"\",\n        \"description\": \"\"\n      }\n    },\n    {\n      \"column\": \"LiteracyRate\",\n      \"properties\": {\n        \"dtype\": \"number\",\n        \"std\": null,\n        \"min\": 83.71067961165049,\n        \"max\": 83.71067961165049,\n        \"num_unique_values\": 1,\n        \"samples\": [\n          83.71067961165049\n        ],\n        \"semantic_type\": \"\",\n        \"description\": \"\"\n      }\n    },\n    {\n      \"column\": \"GNI\",\n      \"properties\": {\n        \"dtype\": \"number\",\n        \"std\": null,\n        \"min\": 35330.0,\n        \"max\": 35330.0,\n        \"num_unique_values\": 1,\n        \"samples\": [\n          35330.0\n        ],\n        \"semantic_type\": \"\",\n        \"description\": \"\"\n      }\n    },\n    {\n      \"column\": \"PrimarySchoolEnrollmentMale\",\n      \"properties\": {\n        \"dtype\": \"number\",\n        \"std\": null,\n        \"min\": 90.85049504950493,\n        \"max\": 90.85049504950493,\n        \"num_unique_values\": 1,\n        \"samples\": [\n          90.85049504950493\n        ],\n        \"semantic_type\": \"\",\n        \"description\": \"\"\n      }\n    },\n    {\n      \"column\": \"PrimarySchoolEnrollmentFemale\",\n      \"properties\": {\n        \"dtype\": \"number\",\n        \"std\": null,\n        \"min\": 89.63267326732672,\n        \"max\": 89.63267326732672,\n        \"num_unique_values\": 1,\n        \"samples\": [\n          89.63267326732672\n        ],\n        \"semantic_type\": \"\",\n        \"description\": \"\"\n      }\n    }\n  ]\n}"
            }
          },
          "metadata": {},
          "execution_count": 25
        }
      ]
    },
    {
      "cell_type": "code",
      "source": [
        "region_with_highest_population_percentage_over_60 = \"Western Pacific\""
      ],
      "metadata": {
        "id": "bhk7hyyPVWXn"
      },
      "execution_count": 26,
      "outputs": []
    },
    {
      "cell_type": "markdown",
      "source": [
        "#Question5\n",
        "The Western Pacific is the region with the highest population percentage of people with the age over 60."
      ],
      "metadata": {
        "id": "29dMVXyqKv4J"
      }
    },
    {
      "cell_type": "code",
      "source": [
        "from matplotlib import pyplot as plt\n",
        "import seaborn as sns"
      ],
      "metadata": {
        "id": "2BB6edigWJqC"
      },
      "execution_count": 28,
      "outputs": []
    },
    {
      "cell_type": "code",
      "source": [
        "sns.scatterplot(x='GNI', y='FertilityRate', data=health_and_demography_df)\n",
        "plt.xlabel('GNI', fontweight='bold')\n",
        "plt.ylabel('FertilityRate', fontweight='bold')\n",
        "plt.title('Relationship of wealth vs FertilityRate', fontweight='bold')"
      ],
      "metadata": {
        "colab": {
          "base_uri": "https://localhost:8080/",
          "height": 489
        },
        "id": "D7GdupG0aUVZ",
        "outputId": "0f6c5dfc-feb2-4d80-9ce7-3a8b6dd3da28"
      },
      "execution_count": 31,
      "outputs": [
        {
          "output_type": "execute_result",
          "data": {
            "text/plain": [
              "Text(0.5, 1.0, 'Relationship of wealth vs FertilityRate')"
            ]
          },
          "metadata": {},
          "execution_count": 31
        },
        {
          "output_type": "display_data",
          "data": {
            "text/plain": [
              "<Figure size 640x480 with 1 Axes>"
            ],
            "image/png": "[encoded data removed]"
          },
          "metadata": {}
        }
      ]
    },
    {
      "cell_type": "markdown",
      "source": [
        "#Question6\n",
        "Yes the fertility decreases as people get more income.\n",
        "Yes there are countries that do not follow this trend or relation."
      ],
      "metadata": {
        "id": "jYvngvYEdWwg"
      }
    },
    {
      "cell_type": "code",
      "source": [
        "regional_avg_literacyrate = health_and_demography_df.groupby('Region').LiteracyRate.mean()\n",
        "print(regional_avg_literacyrate)\n",
        "regional_literacy_ascending_order = ['Africa','South-East Asia', 'Eastern Mediterranean', 'Western pacific', 'Americas','Europe']\n",
        "print(regional_literacy_ascending_order)\n"
      ],
      "metadata": {
        "colab": {
          "base_uri": "https://localhost:8080/"
        },
        "id": "HFLdFVy2lLjS",
        "outputId": "5cc44554-57f3-42c2-e36f-9cf94ca3cadf"
      },
      "execution_count": 35,
      "outputs": [
        {
          "output_type": "stream",
          "name": "stdout",
          "text": [
            "Region\n",
            "Africa                   72.269713\n",
            "Americas                 87.948350\n",
            "Eastern Mediterranean    83.169462\n",
            "Europe                   91.103554\n",
            "South-East Asia          78.287643\n",
            "Western Pacific          85.847860\n",
            "Name: LiteracyRate, dtype: float64\n",
            "['Africa', 'South-East Asia', 'Eastern Mediterranean', 'Western pacific', 'Americas', 'Europe']\n"
          ]
        }
      ]
    },
    {
      "cell_type": "markdown",
      "source": [
        "#Question7\n",
        "Regions with the lowest literacy rate are Africa and South-East Asia"
      ],
      "metadata": {
        "id": "yb8urKkeMX_2"
      }
    },
    {
      "cell_type": "code",
      "source": [
        "regional_avg_childmortality = health_and_demography_df.groupby('Region').ChildMortality.mean()\n",
        "print(regional_avg_childmortality)\n",
        "regional_child_mortality_ascending_order = ['Europe', 'Americas','Western Pacific','South-East Asia','Eastern Mediterranean','Africa']\n",
        "print(regional_child_mortality_ascending_order)"
      ],
      "metadata": {
        "colab": {
          "base_uri": "https://localhost:8080/"
        },
        "id": "VCU3AXYcMqjQ",
        "outputId": "bdb0c86c-2986-4017-9b8c-f2e51fa70c15"
      },
      "execution_count": 34,
      "outputs": [
        {
          "output_type": "stream",
          "name": "stdout",
          "text": [
            "Region\n",
            "Africa                   84.036957\n",
            "Americas                 19.322857\n",
            "Eastern Mediterranean    40.250000\n",
            "Europe                   10.050943\n",
            "South-East Asia          35.045455\n",
            "Western Pacific          24.711111\n",
            "Name: ChildMortality, dtype: float64\n",
            "['Europe', 'Americas', 'Western Pacific', 'South-East Asia', 'Eastern Mediterranean', 'Africa']\n"
          ]
        }
      ]
    },
    {
      "cell_type": "markdown",
      "source": [
        "#Question8\n",
        "Europe and Americas have relatively low child mortality compared to the other 4 regions"
      ],
      "metadata": {
        "id": "11fJZhDNTG0n"
      }
    },
    {
      "cell_type": "code",
      "source": [
        "\n",
        "plt.figure(figsize=(10, 6))\n",
        "sns.boxplot(y='Region', x='LifeExpectancy', data=health_and_demography_df, hue='Region')\n",
        "plt.xlabel('Life Expectancy', fontweight='bold')\n",
        "plt.ylabel('Region', fontweight='bold')\n",
        "plt.title('Box and Whisker Plot', fontweight='bold')\n",
        "\n"
      ],
      "metadata": {
        "colab": {
          "base_uri": "https://localhost:8080/",
          "height": 581
        },
        "id": "WCy7bwIZ24nq",
        "outputId": "75480426-af5a-4f10-e377-0f745ef0d46c"
      },
      "execution_count": 36,
      "outputs": [
        {
          "output_type": "execute_result",
          "data": {
            "text/plain": [
              "Text(0.5, 1.0, 'Box and Whisker Plot')"
            ]
          },
          "metadata": {},
          "execution_count": 36
        },
        {
          "output_type": "display_data",
          "data": {
            "text/plain": [
              "<Figure size 1000x600 with 1 Axes>"
            ],
            "image/png": "[encoded data removed]"
          },
          "metadata": {}
        }
      ]
    },
    {
      "cell_type": "markdown",
      "source": [
        "#Question9\n",
        "\n",
        "\n",
        "\n",
        "*   The 50% distribution from the minimum age to the median of the Eastern Mediterranean is larger than all the other variables in its box plot meaning the life expectancy in that region likely to around 50 to 74 years. The same is true for Europe  with the life expectancy of Europe being around 67 to 78 years.\n",
        "*   The 50% distribution from the median to the maximum age of Africa is larger than all the other variables in its box plot meaning the life expectancy in this region of most of the population likely to be around 58 to 74 years. The same is true for South-East-Asia and Americas with the life expectancy of most of the population being around 69 to 77 years and of Americas being around 75 to 83 years old.\n",
        "\n",
        "*   The 50% distribution of Western pacific is evenly distributed meaning that half of its population is likely to have a life expectancy of 60 to 72 while the other half is likely to from 72 to 84 years.\n",
        "*   What can be concluded is that people are more likely to live longer in the Americas region than any other region in the world.\n",
        "\n",
        "\n",
        "\n",
        "\n"
      ],
      "metadata": {
        "id": "CnjC8gCVTRJj"
      }
    },
    {
      "cell_type": "code",
      "source": [
        "plt.figure(figsize=(10, 6))\n",
        "sns.scatterplot(x='GNI', y='LifeExpectancy', hue='Region', style='Region', data=health_and_demography_df)\n",
        "plt.title('Life Expectancy vs. Wealth across Different Regions', fontweight='bold')\n",
        "plt.xlabel('GNI', fontweight='bold')\n",
        "plt.ylabel('Life Expectancy', fontweight='bold')\n",
        "plt.legend(title='Region')\n",
        "plt.show()"
      ],
      "metadata": {
        "colab": {
          "base_uri": "https://localhost:8080/",
          "height": 564
        },
        "id": "LyH0Y3Pf3GHF",
        "outputId": "9a1af805-49bb-48d9-c6c8-7f1d0351dc50"
      },
      "execution_count": 37,
      "outputs": [
        {
          "output_type": "display_data",
          "data": {
            "text/plain": [
              "<Figure size 1000x600 with 1 Axes>"
            ],
            "image/png": "[encoded data removed]"
          },
          "metadata": {}
        }
      ]
    },
    {
      "cell_type": "markdown",
      "source": [
        "#Question10\n",
        "No, these relationships do not hold for African countries as it observed from the graph that the life expectancy increases irrespective of the wealth accumulated or the increase in wealth."
      ],
      "metadata": {
        "id": "yBwTLg6s-6kz"
      }
    },
    {
      "cell_type": "code",
      "source": [
        "plt.figure(figsize=(10, 6))\n",
        "sns.scatterplot(x='LifeExpectancy', y='LiteracyRate', hue='Region', style='Region' , data=health_and_demography_df)\n",
        "plt.title('LiteracyRate vs LifeExpectancy across Different Regions in the world', fontweight='bold')\n",
        "plt.xlabel('LifeExpectancy', fontweight ='bold')\n",
        "plt.ylabel('LiteracyRate', fontweight='bold')\n",
        "plt.legend(title='Region',)\n",
        "plt.show()"
      ],
      "metadata": {
        "colab": {
          "base_uri": "https://localhost:8080/",
          "height": 564
        },
        "id": "rhgvbIjW4DGG",
        "outputId": "f59a5b22-573f-4beb-d395-cf775bd165de"
      },
      "execution_count": 43,
      "outputs": [
        {
          "output_type": "display_data",
          "data": {
            "text/plain": [
              "<Figure size 1000x600 with 1 Axes>"
            ],
            "image/png": "[encoded data removed]"
          },
          "metadata": {}
        }
      ]
    },
    {
      "cell_type": "markdown",
      "source": [
        "#Question 11\n",
        "\n",
        "\n",
        "*  This realationship shown is only true for African because people who are below 60 are much more inclined to become or educatedor literate.\n",
        "*  Another observation that is not true is that you do not need to live longer to become as it is shown from the graph hence we can be truly confident of the relationships shown.\n",
        "\n",
        "\n"
      ],
      "metadata": {
        "id": "9A3E5dhHCIrp"
      }
    }
  ]
}